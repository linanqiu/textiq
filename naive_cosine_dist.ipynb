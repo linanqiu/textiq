{
 "worksheets": [
  {
   "cells": [
    {
     "cell_type": "code",
     "execution_count": null,
     "metadata": {},
     "outputs": [],
     "input": [
      "%matplotlib inline"
     ],
     "language": "python",
     "prompt_number": 31
    },
    {
     "cell_type": "code",
     "execution_count": null,
     "metadata": {},
     "outputs": [],
     "input": [
      "from lib.w2v.w2v import *"
     ],
     "language": "python",
     "prompt_number": 32
    },
    {
     "cell_type": "code",
     "execution_count": null,
     "metadata": {},
     "outputs": [],
     "input": [
      "newsgroup_model = model_from_saved(\"./temp/models/newsgroup\", binary=False)\n",
      "enron_model = model_from_saved(\"./temp/models/enron\", binary=False)"
     ],
     "language": "python",
     "prompt_number": 33
    },
    {
     "cell_type": "code",
     "execution_count": null,
     "metadata": {},
     "outputs": [],
     "input": [
      "from scipy import spatial\n",
      "\n",
      "intersect_vocab = intersect_vocab(enron_model, newsgroup_model)\n",
      "vocabs = {}\n",
      "for word in intersect_vocab:\n",
      "    cosine_dist = spatial.distance.cosine(newsgroup_model[word], enron_model[word])\n",
      "    vocabs[word] = cosine_dist"
     ],
     "language": "python",
     "prompt_number": 34
    },
    {
     "cell_type": "code",
     "execution_count": null,
     "metadata": {},
     "outputs": [
      {
       "output_type": "pyout",
       "prompt_number": 41,
       "text": [
        "<matplotlib.figure.Figure at 0x1192f7510>"
       ],
       "metadata": {}
      },
      {
       "output_type": "display_data",
       "png": "[encoded data removed]",
       "text": [
        "<matplotlib.figure.Figure at 0x11e5d7ed0>"
       ],
       "metadata": {}
      },
      {
       "output_type": "pyout",
       "prompt_number": 0,
       "text": [
        "<matplotlib.figure.Figure at 0x1192f7510>"
       ],
       "metadata": {}
      }
     ],
     "input": [
      "import matplotlib.pyplot as plot\n",
      "plot.hist(vocabs.values(), normed=True, bins=100, alpha=0.6)\n",
      "\n",
      "import numpy as np\n",
      "from scipy.stats import norm\n",
      "\n",
      "mu, std = norm.fit(vocabs.values())\n",
      "\n",
      "xmin, xmax = plot.xlim()\n",
      "x = np.linspace(xmin, xmax, 100)\n",
      "p = norm.pdf(x, mu, std)\n",
      "plot.plot(x, p, 'k', linewidth=2)\n",
      "plot.figure()"
     ],
     "language": "python",
     "prompt_number": 41
    },
    {
     "cell_type": "code",
     "execution_count": null,
     "metadata": {},
     "outputs": [
      {
       "output_type": "stream",
       "stream": "stdout",
       "text": [
        "0.145319 cocksucker\n1.263730 telescope\n0.413799 hiya\n0.383501 longo\n0.597404 hounded\n0.535894 stoically\n0.287330 eyelids\n0.040857 azw\n1.375974 unintentionally\n0.466936 regressive\n0.109684 spoked\n0.112570 easyriders\n0.396312 expasion\n0.525103 conceptually\n1.284113 socrates\n0.591066 criminality\n1.275965 paper"
       ]
      },
      {
       "output_type": "stream",
       "stream": "stdout",
       "text": [
        "\n1.306973 uxbridge\n0.338504 problemo\n1.359070 marques\n0.543813 paled\n0.556371 manpower\n0.551867 exonerated\n1.252271 jah\n0.150353 barest\n0.542238 iguana\n0.222253 megalomaniacal\n0.343432 depraved\n0.475116 cloistered\n1.260423 camry\n0.481277 matias\n0.337528 emd\n0.541161 accolade"
       ]
      },
      {
       "output_type": "stream",
       "stream": "stdout",
       "text": [
        "\n1.310780 cose\n0.560001 wholeheartedly\n0.549162 chancellors\n0.562953 irritant\n0.492830 responsibities\n0.423466 amn\n1.292033 sixty\n0.572031 becasue\n0.568052 espousing\n0.162099 ghostbusters\n0.169234 ight\n0.209462 brightman\n1.281612 dve\n0.373097 molyneux\n1.283701 fart\n0.566289 interceptor\n0.263019 articulation\n0.340349 afair"
       ]
      },
      {
       "output_type": "stream",
       "stream": "stdout",
       "text": [
        "\n0.416056 byeeeee\n0.469507 narayan\n0.548200 dividers\n0.596742 immensely\n0.574672 acquaint\n0.582758 cant\n0.597364 sapped\n0.412683 repellant\n1.261045 braking\n1.292080 aspi\n1.296645 dogfight\n0.565157 benignly\n0.581299 awareness\n0.468535 puerile\n0.521800 smarting\n0.515702 shuffleboard\n0.577331 vechicle"
       ]
      },
      {
       "output_type": "stream",
       "stream": "stdout",
       "text": [
        "\n0.539213 pettiness\n0.590186 recall\n0.584986 rainstorm\n0.509115 reappeared\n0.351578 ditches\n0.516157 underpinnings\n0.521100 quixotic\n1.339573 katie\n1.257501 uart\n0.482642 openers\n0.291177 toooo\n0.526910 curs\n0.402921 qian\n1.285659 tsn\n1.264189 tomb\n1.327049 ima\n0.151020 presumptive"
       ]
      },
      {
       "output_type": "stream",
       "stream": "stdout",
       "text": [
        "\n1.255859 wedding\n0.279394 canyonlands\n0.583926 rewinding\n0.595180 publicizing\n0.500561 loins\n0.583638 permissions\n0.554598 concur\n0.530238 spiralled\n0.591754 reinforce\n0.587784 chessboard\n0.596826 barbaric\n0.483570 zippo\n0.335775 shopkeeper\n0.285313 ween\n0.366978 eureka\n1.262945 feminist\n1.311062 diced\n1.350156 platter\n1.281460 flick\n1.299819 nieves\n1.260855 gpo\n1.278500 patterned\n0.482067 verion"
       ]
      },
      {
       "output_type": "stream",
       "stream": "stdout",
       "text": [
        "\n0.279510 tiniest\n0.592794 ashton\n1.282751 vue\n0.468040 encinal\n0.295615 lsid\n0.585348 hookups\n0.450464 filipe\n0.554693 atypical\n0.141542 glutes\n0.288112 proms\n0.478604 oneida\n0.594082 lawful\n0.589695 assail\n0.270313 chump\n0.343182 intereseted\n0.400564 lurches\n0.536628 oceania\n0.508978 joern\n0.550327 everal\n0.566650 locksmith\n0.405925 dhk\n0.256242 minion"
       ]
      },
      {
       "output_type": "stream",
       "stream": "stdout",
       "text": [
        "\n0.525717 reportage\n1.285593 potter\n0.477516 infocom\n0.404574 prud\n0.560033 wpa\n0.036231 litte\n0.589497 bowdoin\n0.423394 integrals\n0.550772 fastidious\n1.260118 ac\n1.294109 pics\n0.433138 conspiratorial\n0.522471 caca\n1.340815 trh\n0.302906 freud\n0.514077 paloalto\n1.288234 funk\n0.025218 fairplex\n0.594303 laxity\n1.252526 leo\n1.378218 benz\n0.584924 estimable"
       ]
      },
      {
       "output_type": "stream",
       "stream": "stdout",
       "text": [
        "\n0.427825 overwrote\n0.429633 formating\n0.381870 manic\n0.482221 vincenzo\n0.035919 employeer\n1.344460 fudge\n1.264340 forte\n0.527957 putty\n0.490666 bronchitis\n0.369281 galations\n0.584140 mocked\n0.523816 lapses\n0.222892 foresman\n1.313725 carpeting\n1.271315 margarita\n1.265016 rubric\n0.418309 plexi\n0.371514 gruss\n0.572924 staircase\n0.526368 homily\n0.369021 luego\n0.387082 sophistry\n1.283805 speed\n0.539873 renovate\n0.541387 envolved\n0.393325 oxen\n0.293404 siders\n1.276255 mph"
       ]
      },
      {
       "output_type": "stream",
       "stream": "stdout",
       "text": [
        "\n0.572850 foof\n1.287998 awarding\n1.261523 dung\n0.017643 pup\n0.081366 wasserman\n0.000801 darted\n0.585334 unmentioned\n1.281826 archer\n0.341092 alchemists\n1.299243 fgr\n0.476027 pinging\n1.287382 expansion\n0.558825 preludes\n1.281704 dmv\n0.573526 duquesne\n1.358886 neo\n0.475999 handlebar\n0.524969 backplanes\n0.538948 kgc\n0.573367 givi"
       ]
      },
      {
       "output_type": "stream",
       "stream": "stdout",
       "text": [
        "\n1.271468 monolithic\n0.493805 upholstery\n1.255640 lancia\n0.542940 cardwell\n0.517973 intermittant\n1.263157 ops\n1.334540 dinghy\n0.566269 pickets\n0.086478 intentioned\n0.579791 kerney\n0.544865 rehabilitated\n1.264379 christine\n0.039319 raisin\n1.262863 reuters\n0.077758 moosehead"
       ]
      },
      {
       "output_type": "stream",
       "stream": "stdout",
       "text": [
        "\n0.545432 conduits\n0.289004 streched\n1.280979 reposted\n0.155845 paxson\n0.403560 aiwa\n0.529402 bullying\n0.483750 patz\n0.183818 blather\n0.489255 bearly\n1.275631 passover\n0.578001 darndest\n0.021120 commmand\n0.572091 lage\n0.202402 peices"
       ]
      },
      {
       "output_type": "stream",
       "stream": "stdout",
       "text": [
        "\n1.272315 opera\n0.000000 sincerly\n0.517041 villiage\n1.283734 scheduled\n0.185680 primarly\n0.314216 dispensed\n0.579223 vaguely\n0.358626 leno\n1.277691 usl\n0.522894 untouchable\n0.439614 rovers\n0.439687 undimmed\n0.541334 ogre"
       ]
      },
      {
       "output_type": "stream",
       "stream": "stdout",
       "text": [
        "\n0.590591 presume\n0.572672 jetski\n0.533129 hasten\n0.467064 veils\n0.013351 lubed\n1.253375 hooey\n0.573287 undertook\n0.541373 decals\n0.327424 matchless\n1.340021 alman\n0.551680 straightforwardly\n0.596367 queasy\n0.336896 ivo\n1.295563 hes\n1.252334 miriam"
       ]
      },
      {
       "output_type": "stream",
       "stream": "stdout",
       "text": [
        "\n1.255555 tw\n0.306635 whirley\n0.545927 marginalized\n0.543119 mousse\n0.505487 macaulay\n0.394192 boeckman\n0.457668 desparately\n0.301777 tornados\n0.461027 ebd\n1.257910 muhammad\n0.583364 newbies\n0.009104 picoseconds\n0.514688 undercoated\n0.493676 scavenging"
       ]
      },
      {
       "output_type": "stream",
       "stream": "stdout",
       "text": [
        "\n0.193277 attuned\n0.514475 frolic\n0.086935 gnarly\n0.594838 pulsating\n0.550989 enthusiatic\n0.442054 subjectivity\n1.291991 forma\n0.595803 ferchrissake\n0.590288 scalpel\n0.592618 posited\n0.546911 helf\n0.273236 hendrik\n0.242420 ryer\n1.331206 srm\n0.417206 ecco\n0.361075 nautilus\n0.412232 racetrack\n1.372680 seta\n0.078716 flicked\n0.499838 courteous\n0.594727 puritan"
       ]
      },
      {
       "output_type": "stream",
       "stream": "stdout",
       "text": [
        "\n1.271849 loot\n0.473525 rummage\n1.263334 fmg\n0.315344 rebuking\n0.532437 irrefutable\n0.339421 christen\n0.565200 yay\n1.271415 petes\n0.584315 appreciative\n0.469043 anough\n1.372031 dookie\n0.465271 dictum\n0.433244 himmelreich\n0.531946 recieves\n0.328781 nave\n0.499940 seep\n0.298674 insurances\n0.463728 magnifing\n0.572850 resourceful"
       ]
      },
      {
       "output_type": "stream",
       "stream": "stdout",
       "text": [
        "\n0.568420 distrubution\n1.262861 foward\n0.427970 plantations\n1.271832 kamsarakan\n1.259653 anthology\n0.513152 pinkos\n0.412010 spiteful\n0.506069 rogues\n0.576436 mishandled\n0.529817 revco\n0.592749 intrusive\n0.473143 theoreticaly\n0.182246 engi\n0.575077 substitue\n0.593371 tempt\n1.314433 infill\n0.550197 velo"
       ]
      },
      {
       "output_type": "stream",
       "stream": "stdout",
       "text": [
        "\n0.305465 willi\n1.280285 iit\n0.221985 counterbalanced\n1.297178 dmac\n1.267461 norskog\n0.264372 wahid\n1.263116 foxx\n0.561098 promulgating\n0.584484 anycase\n0.579805 schwarzkopf\n0.562427 grandprix\n0.552901 pluralistic\n0.575193 pitchout\n0.375233 awfull\n0.593607 differnt\n0.529686 puch\n0.252921 careening\n0.415119 predated\n0.594168 glider\n0.581329 bafflers\n0.595161 shove\n1.306447 humour\n0.548990 demagoguery\n0.326088 uli\n0.497051 permeable"
       ]
      },
      {
       "output_type": "stream",
       "stream": "stdout",
       "text": [
        "\n0.581374 nlg\n0.451633 padlock\n0.566965 internationalization\n0.445311 augustus\n1.293213 teleconferencing\n0.467253 tahnks\n1.296722 omicron\n0.301702 carport\n0.514012 resistence\n0.448849 ficc\n1.262663 purcell\n0.527569 duster\n0.238599 shearing\n0.586237 woodhouse\n1.258779 ashburn\n0.597671 jaeschke\n0.439220 cylcones"
       ]
      },
      {
       "output_type": "stream",
       "stream": "stdout",
       "text": [
        "\n0.514811 raisers\n0.531306 adolph\n0.593241 targus\n0.562109 sewall\n1.317276 mya\n0.500221 wizardry\n0.493486 reformulation\n0.551416 ericy\n0.231651 ebenezer\n0.269605 estc\n0.587338 inadvertantly\n0.563216 sacrificing\n0.597417 postmasters\n1.253583 irving\n0.435545 risch\n0.592271 thievery\n0.487495 newbridge\n0.555294 steamship\n0.530433 sday\n0.593981 maintaining\n0.276597 blg\n0.546448 separatists\n0.411501 conrail\n1.266315 sophie\n0.594877 transcended"
       ]
      },
      {
       "output_type": "stream",
       "stream": "stdout",
       "text": [
        "\n0.217312 convienience\n0.593458 quandaries\n1.291960 plane\n0.586089 outland\n0.567606 reemphasize\n0.554829 picketers\n1.260453 gadfly\n0.397450 alverson\n0.580563 unlabeled\n1.410113 ctl\n0.594076 bucharest\n0.447752 dictated\n0.521218 degenerative\n0.310849 hitched\n0.550962 crabbe\n0.030917 stabilise\n1.374641 monaghan\n1.263843 psalm\n0.318791 lucks\n0.498667 wardrobes\n0.428724 eastwick\n0.315064 wimps\n0.331807 merv\n0.448295 sse"
       ]
      },
      {
       "output_type": "stream",
       "stream": "stdout",
       "text": [
        "\n1.360278 upshot\n0.271477 swims\n0.415629 eurasia\n0.469243 suffrage\n1.261664 nis\n0.545070 nevi\n0.487696 somehow\n0.424053 mtq\n1.303467 neeley\n0.583996 clue\n0.444304 undead\n0.489322 ush\n0.559795 menahim\n0.527970 fritsch\n0.463349 harten\n0.483618 immeasurable\n0.476802 celcius\n0.558080 wizz\n0.477018 whirring\n1.253566 egg\n1.311674 overcast\n0.087727 cuervo"
       ]
      },
      {
       "output_type": "stream",
       "stream": "stdout",
       "text": [
        "\n1.274730 ide\n0.317979 abve\n0.399118 pamphlets\n1.280048 snoop\n0.494028 wilfried\n0.132874 gash\n1.282784 stroked\n0.565464 radiating\n0.589006 mgw\n0.451342 zabriskie\n0.580739 resupply\n0.441292 hernadez\n0.452105 misfit\n0.538781 helens\n0.419943 regrouped\n1.288336 mcnutt\n1.337156 commisioners"
       ]
      },
      {
       "output_type": "stream",
       "stream": "stdout",
       "text": [
        "\n0.567651 peculiar\n0.583439 perceive\n0.574675 resistivity\n0.464681 manchu\n1.279643 tosh\n0.594092 finally\n1.356351 bikers\n0.158529 flaunting\n0.469765 pharmacies\n1.256577 albedo\n1.271033 aisha\n0.057408 laywer\n0.000000 fraternally\n0.059876 hdt\n1.264816 mox\n0.596293 fulfil\n0.499599 delineate\n1.319907 wsf\n1.339845 abd\n0.461148 generalizing\n0.582768 categorizing\n0.560325 reinhart"
       ]
      },
      {
       "output_type": "stream",
       "stream": "stdout",
       "text": [
        "\n0.588179 directness\n0.574630 interlocking\n0.527389 tqm\n0.348840 belting\n0.589648 correspond\n0.549602 scumbag\n0.578821 immovable\n0.560918 reqest\n0.577536 takahashi\n0.559257 boulders\n0.551239 taraz\n1.256334 quiero\n0.575954 discard\n1.309696 pid\n0.149356 mwb\n0.167697 noemi\n0.521079 ethridge\n1.270776 raz\n1.265345 rider\n0.222471 siphon"
       ]
      },
      {
       "output_type": "stream",
       "stream": "stdout",
       "text": [
        "\n0.553590 coiled\n0.239703 prowl\n0.411268 readability\n0.586128 tweak\n0.003935 painfull\n1.373998 bacchus\n1.253050 episcopal\n0.413098 efect\n0.593025 critisize\n0.460110 yashica\n0.583222 actuator\n0.512948 harr\n0.585152 facsimilie\n0.519958 royally\n0.352243 hifi\n0.524952 shortcomings\n0.464987 hoppy\n0.517858 propping\n0.566092 zzr\n0.545568 unattributable\n0.565129 loiselle"
       ]
      },
      {
       "output_type": "stream",
       "stream": "stdout",
       "text": [
        "\n1.277509 kingman\n0.594399 delve\n0.570481 antioxidant\n0.545900 represenative\n"
       ]
      }
     ],
     "input": [
      "tolerance = 0.005\n",
      "for word in vocabs.keys():\n",
      "    p = norm.cdf(vocabs[word], mu, std)\n",
      "    if (p < tolerance) or (p > 1 - tolerance):\n",
      "        print (\"%f %s\" % (vocabs[word], word))"
     ],
     "language": "python",
     "prompt_number": 40
    },
    {
     "cell_type": "code",
     "execution_count": null,
     "metadata": {},
     "outputs": [
      {
       "ename": "NameError",
       "evalue": "name 'vocabs' is not defined",
       "output_type": "pyerr",
       "traceback": [
        "\u001b[0;31m---------------------------------------------------------------------------\u001b[0m",
        "\u001b[0;31mNameError\u001b[0m                                 Traceback (most recent call last)",
        "\u001b[0;32m<ipython-input-1-bf641b5981ba>\u001b[0m in \u001b[0;36m<module>\u001b[0;34m()\u001b[0m\n\u001b[0;32m----> 1\u001b[0;31m \u001b[0;32mprint\u001b[0m \u001b[0mvocabs\u001b[0m\u001b[0;34m[\u001b[0m\u001b[0;34m'meeting'\u001b[0m\u001b[0;34m]\u001b[0m\u001b[0;34m\u001b[0m\u001b[0m\n\u001b[0m",
        "\u001b[0;31mNameError\u001b[0m: name 'vocabs' is not defined"
       ]
      }
     ],
     "input": [
      "print vocabs['meeting']"
     ],
     "language": "python",
     "prompt_number": 1
    }
   ]
  }
 ],
 "cells": [],
 "metadata": {},
 "nbformat": 3,
 "nbformat_minor": 0
}