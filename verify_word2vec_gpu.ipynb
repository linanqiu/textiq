{
 "cells": [
  {
   "cell_type": "markdown",
   "metadata": {},
   "source": [
    "# Verifying Word2Vec GPU"
   ]
  },
  {
   "cell_type": "markdown",
   "metadata": {},
   "source": [
    "Found a GPU implementation of `word2vec` on GitHub. Shout out to the guy's username. Love it.\n",
    "\n",
    "[https://github.com/whatupbiatch/cuda-word2vec](https://github.com/whatupbiatch/cuda-word2vec)\n",
    "\n",
    "Specifically, it only implements to Continuous Bag of Words (CBOW) half of word2vec (the other being the Skip-Gram). However, most CUDA implementations so far have been inaccurate / memory constrained. It'd serve us well to verify the results of this GPU implementation.\n",
    "\n",
    "**Spoilers first: The CUDA code gives inaccurate embeddings**."
   ]
  },
  {
   "cell_type": "markdown",
   "metadata": {},
   "source": [
    "But before that, here's why we're doing this.\n",
    "\n",
    "On a 8 core CPU with 32G of RAM, `gensim`'s implementation of `word2vec` ran at around 20K words per second. The same dataset with the same parameters ran at 400K words per second. This speed up is very sexy."
   ]
  },
  {
   "cell_type": "markdown",
   "metadata": {},
   "source": [
    "We'll train a CPU version of the model and a GPU version of the model using the same parameters, and do the following\n",
    "\n",
    "1. Check their cosine distance for every vocabulary and see that it behaves like that of 2 CPU models\n",
    "2. Check word similarities to see that the model makes sense"
   ]
  },
  {
   "cell_type": "code",
   "execution_count": 1,
   "metadata": {
    "collapsed": true
   },
   "outputs": [],
   "source": [
    "%matplotlib inline\n",
    "from lib.w2v.w2v import *"
   ]
  },
  {
   "cell_type": "code",
   "execution_count": 3,
   "metadata": {
    "collapsed": false
   },
   "outputs": [],
   "source": [
    "cpu_model = model_from_saved(\"./temp/models-ec2/enron\", binary=False)\n",
    "gpu_model = model_from_saved(\"./temp/models-gpu/enron\", binary=False)"
   ]
  },
  {
   "cell_type": "markdown",
   "metadata": {},
   "source": [
    "## Cosine Distance\n",
    "\n",
    "First let's measure the cosine distance between vocabularies."
   ]
  },
  {
   "cell_type": "code",
   "execution_count": 15,
   "metadata": {
    "collapsed": false
   },
   "outputs": [
    {
     "data": {
      "text/plain": [
       "<matplotlib.figure.Figure at 0x1104e5c90>"
      ]
     },
     "execution_count": 15,
     "metadata": {},
     "output_type": "execute_result"
    },
    {
     "data": {
      "image/png": "[encoded data removed]",
      "text/plain": [
       "<matplotlib.figure.Figure at 0x10d7d2ed0>"
      ]
     },
     "metadata": {},
     "output_type": "display_data"
    },
    {
     "data": {
      "text/plain": [
       "<matplotlib.figure.Figure at 0x1104e5c90>"
      ]
     },
     "metadata": {},
     "output_type": "display_data"
    }
   ],
   "source": [
    "from scipy import spatial\n",
    "\n",
    "vocabs = {}\n",
    "\n",
    "for word in cpu_model.vocab:\n",
    "    if word in cpu_model and word in gpu_model:\n",
    "        cosine_sim = 1 - spatial.distance.cosine(cpu_model[word], gpu_model[word])\n",
    "        vocabs[word] = cosine_sim\n",
    "\n",
    "import matplotlib.pyplot as plot\n",
    "\n",
    "plot.hist(vocabs.values(), bins=100)\n",
    "plot.figure()"
   ]
  },
  {
   "cell_type": "markdown",
   "metadata": {},
   "source": [
    "This distribution looks amazingly similar to the CPU model (found at `vector_rotation_default.ipynb` in this same directory.)"
   ]
  },
  {
   "cell_type": "markdown",
   "metadata": {},
   "source": [
    "## Word Similarity\n",
    "\n",
    "Now let's make sure that the embeddings make sense"
   ]
  },
  {
   "cell_type": "code",
   "execution_count": 5,
   "metadata": {
    "collapsed": false
   },
   "outputs": [
    {
     "data": {
      "text/plain": [
       "[(u'hi', 0.6631308794021606),\n",
       " (u'hey', 0.572208046913147),\n",
       " (u'dear', 0.5451931953430176),\n",
       " (u'good_morning', 0.5373660326004028),\n",
       " (u'happy_new_year', 0.4551734924316406),\n",
       " (u'congratulations', 0.44265079498291016),\n",
       " (u'hope', 0.4411052167415619),\n",
       " (u'thanks', 0.43363627791404724),\n",
       " (u'happy_birthday', 0.41684263944625854),\n",
       " (u'doing_well', 0.4160914421081543)]"
      ]
     },
     "execution_count": 5,
     "metadata": {},
     "output_type": "execute_result"
    }
   ],
   "source": [
    "cpu_model.most_similar('hello')"
   ]
  },
  {
   "cell_type": "code",
   "execution_count": 13,
   "metadata": {
    "collapsed": false
   },
   "outputs": [
    {
     "data": {
      "text/plain": [
       "[(u'playoffs_antowain_smith', 1.0),\n",
       " (u'second_guessing', 1.0),\n",
       " (u'transmisison', 1.0),\n",
       " (u'remains_unchanged', 1.0),\n",
       " (u'seoul_korea', 1.0),\n",
       " (u'clearly_defined', 1.0),\n",
       " (u'correspond', 1.0),\n",
       " (u'yds', 1.0),\n",
       " (u'steve_leppard', 0.22951051592826843),\n",
       " (u'tiverton', 0.22951051592826843)]"
      ]
     },
     "execution_count": 13,
     "metadata": {},
     "output_type": "execute_result"
    }
   ],
   "source": [
    "gpu_model.most_similar('hello')"
   ]
  },
  {
   "cell_type": "markdown",
   "metadata": {},
   "source": [
    "Unfortunately, the embeddings don't seem to make too much sense.\n",
    "\n",
    "For an entire afternoon I thought I had insane GPU gains. Unfortunately, that's a little too good to be true."
   ]
  }
 ],
 "metadata": {
  "kernelspec": {
   "display_name": "Python 2",
   "language": "python",
   "name": "python2"
  },
  "language_info": {
   "codemirror_mode": {
    "name": "ipython",
    "version": 2
   },
   "file_extension": ".py",
   "mimetype": "text/x-python",
   "name": "python",
   "nbconvert_exporter": "python",
   "pygments_lexer": "ipython2",
   "version": "2.7.9"
  }
 },
 "nbformat": 4,
 "nbformat_minor": 0
}
